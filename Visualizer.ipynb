{
 "cells": [
  {
   "cell_type": "code",
   "execution_count": null,
   "metadata": {},
   "outputs": [],
   "source": [
    "from folium import FeatureGroup, LayerControl, Map, Marker\n",
    "import pandas as pd\n",
    "from airport_data import AirportData\n",
    "from coordinate import Coordinate\n",
    "\n",
    "\n",
    "class Visualizer:\n",
    "    def __init__(self, coords=[36.8,-122]):\n",
    "        self.coords = Coordinate(coords[0], coords[1])\n",
    "        self.map = Map(location=coords)\n",
    "        self.airport_data = AirportData()\n",
    "        self.airport_data.get_csv_data()\n",
    "        \n",
    "    def add_airports(self):\n",
    "        airports = self.airport_data.get_nearby_airports(self.coords)\n",
    "        \n",
    "        count = 0\n",
    "        for index, row in airports.iterrows():\n",
    "            count += 1\n",
    "            if count > 500:\n",
    "                break\n",
    "            tooltip = row.Name\n",
    "            folium.Marker([row.Latitude, row.Longitude], popup='<b>'+row.Name+'</b>', tooltip=tooltip).add_to(self.map)\n",
    "\n",
    "      \n",
    "    def show_map(self):\n",
    "        display(self.map)\n",
    "        \n",
    "        \n",
    "if __name__ == \"__main__\":\n",
    "    v = Visualizer()\n",
    "    v.add_airports()\n",
    "    v.show_map()"
   ]
  }
 ],
 "metadata": {
  "kernelspec": {
   "display_name": "Python 3",
   "language": "python",
   "name": "python3"
  },
  "language_info": {
   "codemirror_mode": {
    "name": "ipython",
    "version": 3
   },
   "file_extension": ".py",
   "mimetype": "text/x-python",
   "name": "python",
   "nbconvert_exporter": "python",
   "pygments_lexer": "ipython3",
   "version": "3.7.3"
  }
 },
 "nbformat": 4,
 "nbformat_minor": 2
}
