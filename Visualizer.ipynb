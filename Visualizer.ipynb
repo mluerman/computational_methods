from folium import FeatureGroup, LayerControl, Map, Marker, Icon, Popup
from folium.features import CustomIcon
import pandas as pd
from airport_data import AirportData
from atc_data import ATC_Data
from coordinate import Coordinate
import time


class Visualizer:
    def __init__(self, coords=[38,-122]):
        self.coords = Coordinate(coords[0], coords[1])
        self.map = Map(location=coords, tiles='Stamen Terrain')
        self.airport_data = AirportData()
        self.airport_data.get_csv_data()
        self.aircraft_data = ATC_Data()
        self.airport_group = None
        self.aircraft_group = None

        
    def add_airports(self):
        airports = self.airport_data.get_nearby_airports(self.coords)
        self.airport_group = FeatureGroup(name='Airports')

        for index, row in airports.iterrows():
            tooltip = row.Name
            Marker([row.Latitude, row.Longitude], popup='<b>'+row.Name+'</b>', tooltip=tooltip).add_to(self.airport_group)


    def add_aircraft(self):
        self.aircraft_data.get_live_data(bounds=(36,40,-124,-120))
        aircraft = self.aircraft_data.aircraft_df
        self.aircraft_group = FeatureGroup(name='Aircraft')

        icon_url = r"C:\Users\Matthew Luerman\Documents\Computational_Methods\Final Project\icons\p"
        
        for index, row in aircraft.iterrows():
            tooltip = row.Callsign
            aircraft_icon = CustomIcon(
                icon_url + str(int(round(row.Heading, -1))) + ".png",
                icon_size=(20, 20),
                icon_anchor=(0, 0),
                popup_anchor=(0,0)
            )
            info = "<p>Altitude: "+str(row.Altitude)+"<br /> Velocity: "+str(row.Velocity)+"<br /> Heading: "+str(round(row.Heading,0))+"</p>"
            my_popup = Popup(html=info, maxwidth=5000000)
            Marker([row.Latitude, row.Longitude], popup=my_popup, 
                   icon=aircraft_icon, tooltip=tooltip).add_to(self.aircraft_group)
            

    def show_map(self):
        self.add_airports()
        self.airport_group.add_to(self.map)
        self.add_aircraft()
        self.aircraft_group.add_to(self.map)
        LayerControl().add_to(self.map)
        display(self.map)    
    
    
    def run(self):
        self.show_map()
        lookup = input("Enter airport ICAO code or aircraft callsign: ")
        if len(lookup) == 4:
            pass
        else:
            pass
        
        
if __name__ == "__main__":
    v = Visualizer()
    #v.add_airports()
    v.run()
    
